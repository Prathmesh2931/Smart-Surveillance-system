{
 "cells": [
  {
   "cell_type": "code",
   "execution_count": 1,
   "id": "fb551c2f-852c-41dd-96aa-e756ce5548f3",
   "metadata": {},
   "outputs": [
    {
     "name": "stdout",
     "output_type": "stream",
     "text": [
      " * Serving Flask app '__main__'\n",
      " * Debug mode: off\n"
     ]
    },
    {
     "name": "stderr",
     "output_type": "stream",
     "text": [
      "WARNING: This is a development server. Do not use it in a production deployment. Use a production WSGI server instead.\n",
      " * Running on all addresses (0.0.0.0)\n",
      " * Running on http://127.0.0.1:5000\n",
      " * Running on http://192.168.62.77:5000\n",
      "Press CTRL+C to quit\n",
      "192.168.62.77 - - [08/Feb/2025 20:40:09] \"GET / HTTP/1.1\" 200 -\n",
      "192.168.62.77 - - [08/Feb/2025 20:40:11] \"GET / HTTP/1.1\" 200 -\n",
      "192.168.62.77 - - [08/Feb/2025 20:40:12] \"GET / HTTP/1.1\" 200 -\n",
      "192.168.62.77 - - [08/Feb/2025 20:40:12] \"GET / HTTP/1.1\" 200 -\n"
     ]
    }
   ],
   "source": [
    "from flask import Flask, render_template, request, jsonify\n",
    "\n",
    "app = Flask(__name__)\n",
    "\n",
    "@app.route('/')\n",
    "def index():\n",
    "    return '''\n",
    "        <script>\n",
    "        navigator.geolocation.getCurrentPosition(function(position) {\n",
    "            fetch('/location', {\n",
    "                method: 'POST',\n",
    "                headers: {'Content-Type': 'application/json'},\n",
    "                body: JSON.stringify({\n",
    "                    latitude: position.coords.latitude,\n",
    "                    longitude: position.coords.longitude,\n",
    "                    accuracy: position.coords.accuracy\n",
    "                })\n",
    "            }).then(response => response.json())\n",
    "              .then(data => document.body.innerHTML = `<h1>Latitude: ${data.latitude}<br>Longitude: ${data.longitude}<br>Accuracy: ${data.accuracy} meters</h1>`);\n",
    "        });\n",
    "        </script>\n",
    "        <h1>Getting Location...</h1>\n",
    "    '''\n",
    "\n",
    "@app.route('/location', methods=['POST'])\n",
    "def location():\n",
    "    data = request.json\n",
    "    lat, lon, accuracy = data['latitude'], data['longitude'], data['accuracy']\n",
    "    return jsonify({\"latitude\": lat, \"longitude\": lon, \"accuracy\": accuracy})\n",
    "\n",
    "if __name__ == '__main__':\n",
    "    app.run(host='0.0.0.0', port=5000)\n"
   ]
  },
  {
   "cell_type": "code",
   "execution_count": 2,
   "id": "4ddd4d6f-b237-4433-9daa-7bbf283a7058",
   "metadata": {},
   "outputs": [
    {
     "name": "stdout",
     "output_type": "stream",
     "text": [
      " * Serving Flask app '__main__'\n",
      " * Debug mode: off\n"
     ]
    },
    {
     "name": "stderr",
     "output_type": "stream",
     "text": [
      "WARNING: This is a development server. Do not use it in a production deployment. Use a production WSGI server instead.\n",
      " * Running on all addresses (0.0.0.0)\n",
      " * Running on http://127.0.0.1:5000\n",
      " * Running on http://192.168.62.77:5000\n",
      "Press CTRL+C to quit\n",
      "192.168.62.77 - - [08/Feb/2025 20:42:14] \"GET / HTTP/1.1\" 200 -\n"
     ]
    }
   ],
   "source": [
    "from flask import Flask, request, jsonify\n",
    "\n",
    "app = Flask(__name__)\n",
    "\n",
    "@app.route('/')\n",
    "def index():\n",
    "    return '''\n",
    "        <script>\n",
    "        function getLocation() {\n",
    "            if (navigator.geolocation) {\n",
    "                navigator.geolocation.getCurrentPosition(\n",
    "                    function(position) {\n",
    "                        fetch('/location', {\n",
    "                            method: 'POST',\n",
    "                            headers: {'Content-Type': 'application/json'},\n",
    "                            body: JSON.stringify({\n",
    "                                latitude: position.coords.latitude,\n",
    "                                longitude: position.coords.longitude,\n",
    "                                accuracy: position.coords.accuracy\n",
    "                            })\n",
    "                        }).then(response => response.json())\n",
    "                          .then(data => document.body.innerHTML = `<h1>Latitude: ${data.latitude}<br>Longitude: ${data.longitude}<br>Accuracy: ${data.accuracy} meters</h1>`);\n",
    "                    },\n",
    "                    function(error) {\n",
    "                        document.body.innerHTML = `<h1>Error: ${error.message}</h1>`;\n",
    "                    }\n",
    "                );\n",
    "            } else {\n",
    "                document.body.innerHTML = \"<h1>Geolocation is not supported by this browser.</h1>\";\n",
    "            }\n",
    "        }\n",
    "        getLocation();\n",
    "        </script>\n",
    "        <h1>Getting Location...</h1>\n",
    "    '''\n",
    "\n",
    "@app.route('/location', methods=['POST'])\n",
    "def location():\n",
    "    data = request.json\n",
    "    lat, lon, accuracy = data['latitude'], data['longitude'], data['accuracy']\n",
    "    print(f\"Latitude: {lat}, Longitude: {lon}, Accuracy: {accuracy} meters\")\n",
    "    return jsonify({\"latitude\": lat, \"longitude\": lon, \"accuracy\": accuracy})\n",
    "\n",
    "if __name__ == '__main__':\n",
    "    app.run(host='0.0.0.0', port=5000)\n"
   ]
  },
  {
   "cell_type": "code",
   "execution_count": 3,
   "id": "57b58264-605a-4fcd-a712-b8e7fb4d90a0",
   "metadata": {},
   "outputs": [
    {
     "name": "stdout",
     "output_type": "stream",
     "text": [
      "Public ngrok URL: https://6730-2409-40c2-103d-6ed3-5938-c692-caaf-a391.ngrok-free.app\n",
      " * Serving Flask app '__main__'\n",
      " * Debug mode: off\n"
     ]
    },
    {
     "name": "stderr",
     "output_type": "stream",
     "text": [
      "WARNING: This is a development server. Do not use it in a production deployment. Use a production WSGI server instead.\n",
      " * Running on all addresses (0.0.0.0)\n",
      " * Running on http://127.0.0.1:5000\n",
      " * Running on http://192.168.62.77:5000\n",
      "Press CTRL+C to quit\n",
      "192.168.62.77 - - [08/Feb/2025 20:44:28] \"GET / HTTP/1.1\" 200 -\n",
      "192.168.62.77 - - [08/Feb/2025 20:44:33] \"GET / HTTP/1.1\" 200 -\n",
      "192.168.62.77 - - [08/Feb/2025 20:44:33] \"GET / HTTP/1.1\" 200 -\n",
      "192.168.62.77 - - [08/Feb/2025 20:44:33] \"GET / HTTP/1.1\" 200 -\n",
      "192.168.62.77 - - [08/Feb/2025 20:44:33] \"GET / HTTP/1.1\" 200 -\n",
      "192.168.62.77 - - [08/Feb/2025 20:44:33] \"GET / HTTP/1.1\" 200 -\n",
      "192.168.62.77 - - [08/Feb/2025 20:44:34] \"GET / HTTP/1.1\" 200 -\n",
      "192.168.62.77 - - [08/Feb/2025 20:44:34] \"GET / HTTP/1.1\" 200 -\n",
      "192.168.62.77 - - [08/Feb/2025 20:44:34] \"GET / HTTP/1.1\" 200 -\n",
      "127.0.0.1 - - [08/Feb/2025 20:45:03] \"GET / HTTP/1.1\" 200 -\n",
      "127.0.0.1 - - [08/Feb/2025 20:45:04] \"GET /favicon.ico HTTP/1.1\" 404 -\n",
      "127.0.0.1 - - [08/Feb/2025 20:45:07] \"POST /location HTTP/1.1\" 200 -\n"
     ]
    },
    {
     "name": "stdout",
     "output_type": "stream",
     "text": [
      "Latitude: 18.5401344, Longitude: 73.8295808, Accuracy: 278857.4373766782 meters\n"
     ]
    },
    {
     "name": "stderr",
     "output_type": "stream",
     "text": [
      "t=2025-02-08T20:46:07+0530 lvl=warn msg=\"Stopping forwarder\" name=http-5000-5bddee8e-a221-4bee-95bb-298a404c2eac acceptErr=\"failed to accept connection: Listener closed\"\n"
     ]
    }
   ],
   "source": [
    "from flask import Flask, request, jsonify\n",
    "from pyngrok import ngrok\n",
    "\n",
    "app = Flask(__name__)\n",
    "\n",
    "@app.route('/')\n",
    "def index():\n",
    "    return '''\n",
    "        <script>\n",
    "        function getLocation() {\n",
    "            if (navigator.geolocation) {\n",
    "                navigator.geolocation.getCurrentPosition(\n",
    "                    function(position) {\n",
    "                        fetch('/location', {\n",
    "                            method: 'POST',\n",
    "                            headers: {'Content-Type': 'application/json'},\n",
    "                            body: JSON.stringify({\n",
    "                                latitude: position.coords.latitude,\n",
    "                                longitude: position.coords.longitude,\n",
    "                                accuracy: position.coords.accuracy\n",
    "                            })\n",
    "                        }).then(response => response.json())\n",
    "                          .then(data => document.body.innerHTML = `<h1>Latitude: ${data.latitude}<br>Longitude: ${data.longitude}<br>Accuracy: ${data.accuracy} meters</h1>`);\n",
    "                    },\n",
    "                    function(error) {\n",
    "                        document.body.innerHTML = `<h1>Error: ${error.message}</h1>`;\n",
    "                    }\n",
    "                );\n",
    "            } else {\n",
    "                document.body.innerHTML = \"<h1>Geolocation is not supported by this browser.</h1>\";\n",
    "            }\n",
    "        }\n",
    "        getLocation();\n",
    "        </script>\n",
    "        <h1>Getting Location...</h1>\n",
    "    '''\n",
    "\n",
    "@app.route('/location', methods=['POST'])\n",
    "def location():\n",
    "    data = request.json\n",
    "    lat, lon, accuracy = data['latitude'], data['longitude'], data['accuracy']\n",
    "    print(f\"Latitude: {lat}, Longitude: {lon}, Accuracy: {accuracy} meters\")\n",
    "    return jsonify({\"latitude\": lat, \"longitude\": lon, \"accuracy\": accuracy})\n",
    "\n",
    "if __name__ == '__main__':\n",
    "    public_url = ngrok.connect(5000).public_url\n",
    "    print(f\"Public ngrok URL: {public_url}\")\n",
    "    app.run(host='0.0.0.0', port=5000)\n"
   ]
  },
  {
   "cell_type": "code",
   "execution_count": null,
   "id": "4c689608-c339-4dca-97f5-e083d3cf369d",
   "metadata": {},
   "outputs": [],
   "source": [
    "import re\n",
    "\n",
    "def extract_violence_score(response_text):\n",
    "    \"\"\"\n",
    "    Extracts the highest non-zero violence score from the model's output text.\n",
    "    Handles multiple variations of \"Violence Score (0-100)\" even if followed by text.\n",
    "    \"\"\"\n",
    "    response_text = response_text.replace(\"\\xa0\", \" \").strip()  # Normalize spaces\n",
    "\n",
    "    # Updated regex: Capture numbers even if followed by a comma, period, or text\n",
    "    score_pattern = re.findall(r\"Violence Score\\s*\\(0-100\\):\\s*(\\d+)[,.\\s]?\", response_text)\n",
    "\n",
    "    print(\"Debug: Extracted Scores ->\", score_pattern)  # Debugging output\n",
    "\n",
    "    if score_pattern:\n",
    "        violence_scores = list(map(int, score_pattern))  # Convert to integers\n",
    "        non_zero_scores = [score for score in violence_scores if score > 0]  # Filter out zero values\n",
    "\n",
    "        if non_zero_scores:\n",
    "            return max(non_zero_scores)  # Return highest non-zero score\n",
    "        else:\n",
    "            return 0  # If all scores are zero, return 0\n",
    "    else:\n",
    "        print(\"Debug: No scores found in text!\")  \n",
    "        return 0  # Default value\n",
    "\n",
    "# Example Test\n",
    "response_text = \"\"\"\n",
    " **Emotion Detected:** Aggression (the standing man appears to be expressing anger or aggression towards the lying man)\n",
    "     - **Violence Score (0-100):** 35, based on body language and signs of conflict. \n",
    "Debug: Extracted Scores -> []\n",
    "Debug: No scores found in text!\n",
    "0\n",
    "\"\"\"\n",
    "\n",
    "# Test the function\n",
    "violence_score = extract_violence_score(response_text)\n",
    "print(f\"Final Violence Score: {violence_score}\")\n"
   ]
  },
  {
   "cell_type": "code",
   "execution_count": null,
   "id": "9d6b5a39-3986-4a45-b174-f7b6b2ea6848",
   "metadata": {},
   "outputs": [],
   "source": []
  }
 ],
 "metadata": {
  "kernelspec": {
   "display_name": "Python 3 (ipykernel)",
   "language": "python",
   "name": "python3"
  },
  "language_info": {
   "codemirror_mode": {
    "name": "ipython",
    "version": 3
   },
   "file_extension": ".py",
   "mimetype": "text/x-python",
   "name": "python",
   "nbconvert_exporter": "python",
   "pygments_lexer": "ipython3",
   "version": "3.10.12"
  }
 },
 "nbformat": 4,
 "nbformat_minor": 5
}
